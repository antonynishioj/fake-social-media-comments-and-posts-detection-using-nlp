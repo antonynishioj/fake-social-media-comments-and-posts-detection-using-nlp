{
 "cells": [
  {
   "cell_type": "code",
   "execution_count": 5,
   "id": "f69294d5-3cba-4148-94c3-ed3ee51addd1",
   "metadata": {},
   "outputs": [
    {
     "name": "stdin",
     "output_type": "stream",
     "text": [
      "Describe what really happened:  A missile struck a residential building in Kyiv, causing significant damage but no fatalities. Ukrainian officials claim it was a Russian missile attack. Russia denies responsibility, claiming it was Ukrainian defense systems that caused the damage.\n"
     ]
    },
    {
     "name": "stdout",
     "output_type": "stream",
     "text": [
      "\n",
      "Enter social media posts related to the incident. Type 'done' when finished:\n"
     ]
    },
    {
     "name": "stdin",
     "output_type": "stream",
     "text": [
      "Post 1:  Russia just bombed Kyiv, dozens of people dead!\n",
      "Post 2:  There was a missile strike in Kyiv, but it looks like it was the Ukrainian defense system causing the explosion.\n",
      "Post 3:  Russia never attacked Kyiv. The explosion was caused by Ukrainian defense.\n",
      "Post 4:  Ukrainian officials say the missile that hit Kyiv came from Russia, but there were no fatalities.\n",
      "Post 5:  Russia is deliberately attacking civilians in Kyiv. This is an act of genocide!\n",
      "Post 6:   Ukrainian defense intercepted Russian missiles, no major damage reported in Kyiv.\n",
      "Post 7:  There are reports of explosions in Kyiv, but no confirmation of Russian involvement.\n",
      "Post 8:  done\n"
     ]
    },
    {
     "name": "stdout",
     "output_type": "stream",
     "text": [
      "\n",
      "True Posts:\n",
      "- there was a missile strike in kyiv but it looks like it was the ukrainian defense system causing the explosion\n",
      "- ukrainian officials say the missile that hit kyiv came from russia but there were no fatalities\n",
      "\n",
      "False Posts:\n",
      "- russia just bombed kyiv dozens of people dead\n",
      "- russia never attacked kyiv the explosion was caused by ukrainian defense\n",
      "- russia is deliberately attacking civilians in kyiv this is an act of genocide\n",
      "-  ukrainian defense intercepted russian missiles no major damage reported in kyiv\n",
      "- there are reports of explosions in kyiv but no confirmation of russian involvement\n"
     ]
    }
   ],
   "source": [
    "import re\n",
    "import numpy as np\n",
    "from sklearn.feature_extraction.text import TfidfVectorizer\n",
    "from sklearn.metrics.pairwise import cosine_similarity\n",
    "\n",
    "# Preprocess function\n",
    "def preprocess_text(text):\n",
    "    text = re.sub(r'http\\S+', '', text)  # Remove URLs\n",
    "    text = re.sub(r'[^a-zA-Z\\s]', '', text)  # Remove special characters\n",
    "    text = text.lower()  # Convert to lowercase\n",
    "    return text\n",
    "\n",
    "# Additional function to check for contradictions (manual rules)\n",
    "def check_contradiction(post, incident_description):\n",
    "    contradiction_phrases = [\n",
    "        \"dozens of people dead\", \"genocide\", \"russia never attacked\", \"no major damage\"\n",
    "    ]\n",
    "    for phrase in contradiction_phrases:\n",
    "        if phrase in post:\n",
    "            return True\n",
    "    return False\n",
    "\n",
    "# Function to classify posts based on similarity and contradictions\n",
    "def classify_posts(incident_description, social_media_posts, threshold=0.25):\n",
    "    # Preprocess the incident description and posts\n",
    "    incident_description = preprocess_text(incident_description)\n",
    "    social_media_posts = [preprocess_text(post) for post in social_media_posts]\n",
    "    \n",
    "    # Combine the incident description and posts for vectorization\n",
    "    all_text = [incident_description] + social_media_posts\n",
    "    \n",
    "    # Convert to TF-IDF vector representation\n",
    "    vectorizer = TfidfVectorizer(stop_words='english')\n",
    "    tfidf_matrix = vectorizer.fit_transform(all_text)\n",
    "    \n",
    "    # Calculate cosine similarity between incident description and each post\n",
    "    similarity_scores = cosine_similarity(tfidf_matrix[0:1], tfidf_matrix[1:]).flatten()\n",
    "    \n",
    "    # Classify posts as true or false based on the threshold and contradictions\n",
    "    true_posts = []\n",
    "    false_posts = []\n",
    "    \n",
    "    for idx, score in enumerate(similarity_scores):\n",
    "        post = social_media_posts[idx]\n",
    "        \n",
    "        # Check if the post has contradictions, if so classify as false\n",
    "        if check_contradiction(post, incident_description):\n",
    "            false_posts.append(post)\n",
    "        # Otherwise, classify based on similarity threshold\n",
    "        elif score >= threshold:\n",
    "            true_posts.append(post)\n",
    "        else:\n",
    "            false_posts.append(post)\n",
    "    \n",
    "    return true_posts, false_posts\n",
    "\n",
    "# Example usage\n",
    "incident_description = input(\"Describe what really happened: \")\n",
    "\n",
    "# Get multiple social media posts from the user\n",
    "print(\"\\nEnter social media posts related to the incident. Type 'done' when finished:\")\n",
    "social_media_posts = []\n",
    "while True:\n",
    "    post = input(f\"Post {len(social_media_posts) + 1}: \")\n",
    "    if post.lower() == 'done':\n",
    "        break\n",
    "    social_media_posts.append(post)\n",
    "\n",
    "# Classify the posts\n",
    "true_posts, false_posts = classify_posts(incident_description, social_media_posts)\n",
    "\n",
    "# Output the results\n",
    "print(\"\\nTrue Posts:\")\n",
    "for post in true_posts:\n",
    "    print(f\"- {post}\")\n",
    "\n",
    "print(\"\\nFalse Posts:\")\n",
    "for post in false_posts:\n",
    "    print(f\"- {post}\")\n"
   ]
  },
  {
   "cell_type": "code",
   "execution_count": null,
   "id": "89b975cb-8110-4c83-a639-cae9c48dfe41",
   "metadata": {},
   "outputs": [],
   "source": []
  },
  {
   "cell_type": "code",
   "execution_count": null,
   "id": "ccb7dc43-7a06-45c9-9f64-7b63a5f8b62f",
   "metadata": {},
   "outputs": [],
   "source": []
  }
 ],
 "metadata": {
  "kernelspec": {
   "display_name": "Python 3 (ipykernel)",
   "language": "python",
   "name": "python3"
  },
  "language_info": {
   "codemirror_mode": {
    "name": "ipython",
    "version": 3
   },
   "file_extension": ".py",
   "mimetype": "text/x-python",
   "name": "python",
   "nbconvert_exporter": "python",
   "pygments_lexer": "ipython3",
   "version": "3.12.7"
  }
 },
 "nbformat": 4,
 "nbformat_minor": 5
}
